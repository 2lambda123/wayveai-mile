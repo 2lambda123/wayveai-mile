{
 "cells": [
  {
   "cell_type": "code",
   "execution_count": null,
   "id": "106b5b73",
   "metadata": {},
   "outputs": [],
   "source": [
    "from evaluate import main\n",
    "from hydra import compose, initialize\n",
    "from omegaconf import OmegaConf\n",
    "\n",
    "initialize(config_path=\"config\")\n"
   ]
  },
  {
   "cell_type": "code",
   "execution_count": null,
   "id": "94b20e0e",
   "metadata": {},
   "outputs": [],
   "source": [
    "\n",
    "cfg = compose(config_name=\"evaluate\", overrides=[\n",
    "    \"carla_sh_path=/home/carla/CarlaUE4.sh\", \"agent.mile.ckpt=/home/carla/mile.ckpt\", \"port=2000\"])\n",
    "main(cfg)"
   ]
  }
 ],
 "metadata": {
  "kernelspec": {
   "display_name": "Python 3 (ipykernel)",
   "language": "python",
   "name": "python3"
  },
  "language_info": {
   "codemirror_mode": {
    "name": "ipython",
    "version": 3
   },
   "file_extension": ".py",
   "mimetype": "text/x-python",
   "name": "python",
   "nbconvert_exporter": "python",
   "pygments_lexer": "ipython3",
   "version": "3.8.15"
  }
 },
 "nbformat": 4,
 "nbformat_minor": 5
}
