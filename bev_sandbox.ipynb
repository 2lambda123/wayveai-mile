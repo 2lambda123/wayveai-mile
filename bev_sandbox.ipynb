{
 "cells": [
  {
   "cell_type": "code",
   "execution_count": 1,
   "id": "106b5b73",
   "metadata": {},
   "outputs": [
    {
     "name": "stderr",
     "output_type": "stream",
     "text": [
      "/home/carla/.conda/envs/mile/lib/python3.8/site-packages/tqdm/auto.py:21: TqdmWarning: IProgress not found. Please update jupyter and ipywidgets. See https://ipywidgets.readthedocs.io/en/stable/user_install.html\n",
      "  from .autonotebook import tqdm as notebook_tqdm\n"
     ]
    },
    {
     "data": {
      "text/plain": [
       "hydra.initialize()"
      ]
     },
     "execution_count": 1,
     "metadata": {},
     "output_type": "execute_result"
    }
   ],
   "source": [
    "from evaluate import main, run_single\n",
    "from hydra import compose, initialize\n",
    "from omegaconf import OmegaConf\n",
    "\n",
    "initialize(config_path=\"config\")\n"
   ]
  },
  {
   "cell_type": "code",
   "execution_count": null,
   "id": "94b20e0e",
   "metadata": {},
   "outputs": [
    {
     "name": "stderr",
     "output_type": "stream",
     "text": [
      "2000/tcp:           \n"
     ]
    },
    {
     "name": "stdout",
     "output_type": "stream",
     "text": [
      "  14254.26.2-0+++UE4+Release-4.26 522 0\n",
      "Disabling core dumps.\n",
      "Warning - the cfg_dict merging into the main cfg has keys that do not exist in main: ['DATASET.FREQUENCY', 'EVAL.CHECKPOINT_PATH', 'LOSSES.WEIGHT_REWARD', 'MODEL.POLICY', 'MODEL.REWARD']\n",
      "Loaded weights from: /home/carla/mile.ckpt\n",
      "Loading world model weights from /home/carla/mile.ckpt\n",
      "Recomputing\n",
      "Start Benchmarking! env_idx: 0, suite_name: mile_LeaderBoard-v0_Town02_None_new\n"
     ]
    },
    {
     "name": "stderr",
     "output_type": "stream",
     "text": [
      "/home/carla/.conda/envs/mile/lib/python3.8/site-packages/gym/logger.py:30: UserWarning: \u001b[33mWARN: Box bound precision lowered by casting to float32\u001b[0m\n",
      "  warnings.warn(colorize('%s: %s'%('WARN', msg % args), 'yellow'))\n"
     ]
    }
   ],
   "source": [
    "from evaluate import run_single\n",
    "import gym\n",
    "import json\n",
    "from pathlib import Path\n",
    "import wandb\n",
    "import hydra\n",
    "from omegaconf import DictConfig, OmegaConf\n",
    "import logging\n",
    "import os.path\n",
    "import sys\n",
    "import cv2\n",
    "from time import time\n",
    "\n",
    "from gym.wrappers.monitoring.video_recorder import ImageEncoder\n",
    "from stable_baselines3.common.vec_env.base_vec_env import tile_images\n",
    "\n",
    "from carla_gym.utils import config_utils\n",
    "from utils import server_utils\n",
    "from mile.agents.rl_birdview.utils.wandb_callback import WandbCallback\n",
    "from mile.constants import CARLA_FPS\n",
    "import time\n",
    "\n",
    "\n",
    "def main(cfg: DictConfig):\n",
    "    server_utils.kill_carla(cfg.port)\n",
    "\n",
    "    # start carla servers\n",
    "    server_manager = server_utils.CarlaServerManager(cfg.carla_sh_path, port=cfg.port)\n",
    "    server_manager.start()\n",
    "\n",
    "    # single actor, place holder for multi actors\n",
    "    agents_dict = {}\n",
    "    obs_configs = {}\n",
    "    reward_configs = {}\n",
    "    terminal_configs = {}\n",
    "    agent_names = []\n",
    "    for ev_id, ev_cfg in cfg.actors.items():\n",
    "        agent_names.append(ev_cfg.agent)\n",
    "        cfg_agent = cfg.agent[ev_cfg.agent]\n",
    "        OmegaConf.save(config=cfg_agent, f='config_agent.yaml')\n",
    "        AgentClass = config_utils.load_entry_point(cfg_agent.entry_point)\n",
    "        agents_dict[ev_id] = AgentClass('config_agent.yaml')\n",
    "        obs_configs[ev_id] = agents_dict[ev_id].obs_configs\n",
    "\n",
    "        # get obs_configs from agent\n",
    "        reward_configs[ev_id] = OmegaConf.to_container(ev_cfg.reward)\n",
    "        terminal_configs[ev_id] = OmegaConf.to_container(ev_cfg.terminal)\n",
    "\n",
    "    env_idx = 0\n",
    "\n",
    "    ckpt_task_idx = 0\n",
    "    log.info(f'Start new env from task_idx {ckpt_task_idx}')\n",
    "\n",
    "    # compose suite_name\n",
    "    env_setup = OmegaConf.to_container(cfg.test_suites[env_idx])\n",
    "    suite_name = '-'.join(agent_names) + '_' + env_setup['env_id']\n",
    "    for k in sorted(env_setup['env_configs']):\n",
    "        suite_name = suite_name + '_' + str(env_setup['env_configs'][k])\n",
    "\n",
    "    print(f\"Start Benchmarking! env_idx: {env_idx}, suite_name: {suite_name}\")\n",
    "\n",
    "    agents_log_dir = Path('agents_log') / suite_name\n",
    "    agents_log_dir.mkdir(parents=True, exist_ok=True)\n",
    "\n",
    "    env = gym.make(env_setup['env_id'], obs_configs=obs_configs, reward_configs=reward_configs,\n",
    "                   terminal_configs=terminal_configs, host=cfg.host, port=cfg.port,\n",
    "                   seed=cfg.seed, no_rendering=cfg.no_rendering, **env_setup['env_configs'])\n",
    "\n",
    "    task_idx = 0\n",
    "    env.set_task_idx(task_idx)\n",
    "    run_name = f\"{env.task['weather']}_{env.task['route_id']:02d}\"\n",
    "    list_render, ep_stat_dict, ep_event_dict, timestamp = run_single(\n",
    "        run_name, env, agents_dict, agents_log_dir, cfg.log_video)\n",
    "\n",
    "    # close env\n",
    "    env.close()\n",
    "    env = None\n",
    "    server_manager.stop()\n",
    "\n",
    "        \n",
    "\n",
    "cfg = compose(config_name=\"evaluate\", overrides=[\n",
    "    \"carla_sh_path=/home/carla/CarlaUE4.sh\", \"agent.mile.ckpt=/home/carla/mile.ckpt\", \"port=2000\"])\n",
    "main(cfg)\n"
   ]
  }
 ],
 "metadata": {
  "kernelspec": {
   "display_name": "Python 3 (ipykernel)",
   "language": "python",
   "name": "python3"
  },
  "language_info": {
   "codemirror_mode": {
    "name": "ipython",
    "version": 3
   },
   "file_extension": ".py",
   "mimetype": "text/x-python",
   "name": "python",
   "nbconvert_exporter": "python",
   "pygments_lexer": "ipython3",
   "version": "3.8.15"
  }
 },
 "nbformat": 4,
 "nbformat_minor": 5
}
